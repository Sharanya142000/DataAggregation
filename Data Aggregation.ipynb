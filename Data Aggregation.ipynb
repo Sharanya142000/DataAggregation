{
 "cells": [
  {
   "cell_type": "markdown",
   "id": "dac768a4",
   "metadata": {},
   "source": [
    "# DATA AGGREGATION WITH SIMPLE TIME SERIES DATASET"
   ]
  },
  {
   "cell_type": "code",
   "execution_count": 9,
   "id": "b83d819c",
   "metadata": {
    "scrolled": true
   },
   "outputs": [
    {
     "name": "stdout",
     "output_type": "stream",
     "text": [
      "Collecting display\n",
      "  Downloading display-1.0.0.tar.gz (687 bytes)\n",
      "  Preparing metadata (setup.py) ... \u001b[?25ldone\n",
      "\u001b[?25hBuilding wheels for collected packages: display\n",
      "  Building wheel for display (setup.py) ... \u001b[?25ldone\n",
      "\u001b[?25h  Created wheel for display: filename=display-1.0.0-py3-none-any.whl size=1380 sha256=df33b0da0ab3fb60f0f08afa342f4d0d5c9d28c3153e31c9f3b887470cdeabb7\n",
      "  Stored in directory: /Users/sharanyasenthil/Library/Caches/pip/wheels/b3/45/b2/c40be70bc2856c345453aafc8ad480489e0b05222447531987\n",
      "Successfully built display\n",
      "Installing collected packages: display\n",
      "Successfully installed display-1.0.0\n"
     ]
    }
   ],
   "source": [
    "!pip install display"
   ]
  },
  {
   "cell_type": "code",
   "execution_count": 12,
   "id": "0924c387",
   "metadata": {
    "scrolled": true
   },
   "outputs": [],
   "source": [
    "import numpy as np\n",
    "import pandas as pd\n",
    "import IPython.display"
   ]
  },
  {
   "cell_type": "code",
   "execution_count": 2,
   "id": "bf56d64f",
   "metadata": {},
   "outputs": [],
   "source": [
    "df = pd.read_csv(\"/Users/sharanyasenthil/Downloads/DataScience-main/store.csv\")"
   ]
  },
  {
   "cell_type": "code",
   "execution_count": 14,
   "id": "7130e3ec",
   "metadata": {},
   "outputs": [
    {
     "data": {
      "text/html": [
       "<div>\n",
       "<style scoped>\n",
       "    .dataframe tbody tr th:only-of-type {\n",
       "        vertical-align: middle;\n",
       "    }\n",
       "\n",
       "    .dataframe tbody tr th {\n",
       "        vertical-align: top;\n",
       "    }\n",
       "\n",
       "    .dataframe thead th {\n",
       "        text-align: right;\n",
       "    }\n",
       "</style>\n",
       "<table border=\"1\" class=\"dataframe\">\n",
       "  <thead>\n",
       "    <tr style=\"text-align: right;\">\n",
       "      <th></th>\n",
       "      <th>MONTH</th>\n",
       "      <th>STORECODE</th>\n",
       "      <th>QTY</th>\n",
       "      <th>VALUE</th>\n",
       "      <th>GRP</th>\n",
       "      <th>SGRP</th>\n",
       "      <th>SSGRP</th>\n",
       "      <th>CMP</th>\n",
       "      <th>MBRD</th>\n",
       "      <th>BRD</th>\n",
       "    </tr>\n",
       "  </thead>\n",
       "  <tbody>\n",
       "    <tr>\n",
       "      <th>0</th>\n",
       "      <td>M1</td>\n",
       "      <td>P1</td>\n",
       "      <td>25</td>\n",
       "      <td>83</td>\n",
       "      <td>HAIR CONDITIONERS</td>\n",
       "      <td>HAIR CONDITIONERS</td>\n",
       "      <td>HAIR CONDITIONERS</td>\n",
       "      <td>HINDUSTAN UNILEVER LIMITED</td>\n",
       "      <td>DOVE</td>\n",
       "      <td>DOVE HAIR FALL RESCUE</td>\n",
       "    </tr>\n",
       "    <tr>\n",
       "      <th>1</th>\n",
       "      <td>M1</td>\n",
       "      <td>P1</td>\n",
       "      <td>6</td>\n",
       "      <td>22</td>\n",
       "      <td>HAIR CONDITIONERS</td>\n",
       "      <td>HAIR CONDITIONERS</td>\n",
       "      <td>HAIR CONDITIONERS</td>\n",
       "      <td>HINDUSTAN UNILEVER LIMITED</td>\n",
       "      <td>DOVE</td>\n",
       "      <td>DOVE INTENSE REPAIR</td>\n",
       "    </tr>\n",
       "    <tr>\n",
       "      <th>2</th>\n",
       "      <td>M1</td>\n",
       "      <td>P1</td>\n",
       "      <td>4</td>\n",
       "      <td>15</td>\n",
       "      <td>HAIR CONDITIONERS</td>\n",
       "      <td>HAIR CONDITIONERS</td>\n",
       "      <td>HAIR CONDITIONERS</td>\n",
       "      <td>HINDUSTAN UNILEVER LIMITED</td>\n",
       "      <td>DOVE</td>\n",
       "      <td>DOVE OXYGEN MOISTURE</td>\n",
       "    </tr>\n",
       "    <tr>\n",
       "      <th>3</th>\n",
       "      <td>M1</td>\n",
       "      <td>P1</td>\n",
       "      <td>15</td>\n",
       "      <td>60</td>\n",
       "      <td>HAIR CONDITIONERS</td>\n",
       "      <td>HAIR CONDITIONERS</td>\n",
       "      <td>HAIR CONDITIONERS</td>\n",
       "      <td>L'OREAL INDIA</td>\n",
       "      <td>GARNIER</td>\n",
       "      <td>FRUCTIS</td>\n",
       "    </tr>\n",
       "    <tr>\n",
       "      <th>4</th>\n",
       "      <td>M1</td>\n",
       "      <td>P2</td>\n",
       "      <td>0</td>\n",
       "      <td>0</td>\n",
       "      <td>HAIR CONDITIONERS</td>\n",
       "      <td>HAIR CONDITIONERS</td>\n",
       "      <td>HAIR CONDITIONERS</td>\n",
       "      <td>HINDUSTAN UNILEVER LIMITED</td>\n",
       "      <td>CLINIC PLUS</td>\n",
       "      <td>CLINIC PLUS</td>\n",
       "    </tr>\n",
       "  </tbody>\n",
       "</table>\n",
       "</div>"
      ],
      "text/plain": [
       "  MONTH STORECODE  QTY  VALUE                GRP               SGRP  \\\n",
       "0    M1        P1   25     83  HAIR CONDITIONERS  HAIR CONDITIONERS   \n",
       "1    M1        P1    6     22  HAIR CONDITIONERS  HAIR CONDITIONERS   \n",
       "2    M1        P1    4     15  HAIR CONDITIONERS  HAIR CONDITIONERS   \n",
       "3    M1        P1   15     60  HAIR CONDITIONERS  HAIR CONDITIONERS   \n",
       "4    M1        P2    0      0  HAIR CONDITIONERS  HAIR CONDITIONERS   \n",
       "\n",
       "               SSGRP                         CMP         MBRD  \\\n",
       "0  HAIR CONDITIONERS  HINDUSTAN UNILEVER LIMITED         DOVE   \n",
       "1  HAIR CONDITIONERS  HINDUSTAN UNILEVER LIMITED         DOVE   \n",
       "2  HAIR CONDITIONERS  HINDUSTAN UNILEVER LIMITED         DOVE   \n",
       "3  HAIR CONDITIONERS               L'OREAL INDIA      GARNIER   \n",
       "4  HAIR CONDITIONERS  HINDUSTAN UNILEVER LIMITED  CLINIC PLUS   \n",
       "\n",
       "                     BRD  \n",
       "0  DOVE HAIR FALL RESCUE  \n",
       "1    DOVE INTENSE REPAIR  \n",
       "2   DOVE OXYGEN MOISTURE  \n",
       "3                FRUCTIS  \n",
       "4            CLINIC PLUS  "
      ]
     },
     "execution_count": 14,
     "metadata": {},
     "output_type": "execute_result"
    }
   ],
   "source": [
    "df.head()"
   ]
  },
  {
   "cell_type": "code",
   "execution_count": 4,
   "id": "c3899375",
   "metadata": {},
   "outputs": [
    {
     "name": "stdout",
     "output_type": "stream",
     "text": [
      "(14260, 10)\n"
     ]
    }
   ],
   "source": [
    "print(df.shape)"
   ]
  },
  {
   "cell_type": "markdown",
   "id": "55e5ff10",
   "metadata": {},
   "source": [
    "## I GROUP-BY"
   ]
  },
  {
   "cell_type": "markdown",
   "id": "e92c594f",
   "metadata": {},
   "source": [
    "df = df.loc[:6000, ['MONTH','STORECODE','QTY','VALUE','MBRD']]"
   ]
  },
  {
   "cell_type": "code",
   "execution_count": 17,
   "id": "b2335af7",
   "metadata": {},
   "outputs": [
    {
     "data": {
      "text/html": [
       "<div>\n",
       "<style scoped>\n",
       "    .dataframe tbody tr th:only-of-type {\n",
       "        vertical-align: middle;\n",
       "    }\n",
       "\n",
       "    .dataframe tbody tr th {\n",
       "        vertical-align: top;\n",
       "    }\n",
       "\n",
       "    .dataframe thead th {\n",
       "        text-align: right;\n",
       "    }\n",
       "</style>\n",
       "<table border=\"1\" class=\"dataframe\">\n",
       "  <thead>\n",
       "    <tr style=\"text-align: right;\">\n",
       "      <th></th>\n",
       "      <th>MONTH</th>\n",
       "      <th>STORECODE</th>\n",
       "      <th>QTY</th>\n",
       "      <th>VALUE</th>\n",
       "      <th>MBRD</th>\n",
       "    </tr>\n",
       "  </thead>\n",
       "  <tbody>\n",
       "    <tr>\n",
       "      <th>0</th>\n",
       "      <td>M1</td>\n",
       "      <td>P1</td>\n",
       "      <td>25</td>\n",
       "      <td>83</td>\n",
       "      <td>DOVE</td>\n",
       "    </tr>\n",
       "    <tr>\n",
       "      <th>1</th>\n",
       "      <td>M1</td>\n",
       "      <td>P1</td>\n",
       "      <td>6</td>\n",
       "      <td>22</td>\n",
       "      <td>DOVE</td>\n",
       "    </tr>\n",
       "    <tr>\n",
       "      <th>2</th>\n",
       "      <td>M1</td>\n",
       "      <td>P1</td>\n",
       "      <td>4</td>\n",
       "      <td>15</td>\n",
       "      <td>DOVE</td>\n",
       "    </tr>\n",
       "    <tr>\n",
       "      <th>3</th>\n",
       "      <td>M1</td>\n",
       "      <td>P1</td>\n",
       "      <td>15</td>\n",
       "      <td>60</td>\n",
       "      <td>GARNIER</td>\n",
       "    </tr>\n",
       "    <tr>\n",
       "      <th>4</th>\n",
       "      <td>M1</td>\n",
       "      <td>P2</td>\n",
       "      <td>0</td>\n",
       "      <td>0</td>\n",
       "      <td>CLINIC PLUS</td>\n",
       "    </tr>\n",
       "  </tbody>\n",
       "</table>\n",
       "</div>"
      ],
      "text/plain": [
       "  MONTH STORECODE  QTY  VALUE         MBRD\n",
       "0    M1        P1   25     83         DOVE\n",
       "1    M1        P1    6     22         DOVE\n",
       "2    M1        P1    4     15         DOVE\n",
       "3    M1        P1   15     60      GARNIER\n",
       "4    M1        P2    0      0  CLINIC PLUS"
      ]
     },
     "execution_count": 17,
     "metadata": {},
     "output_type": "execute_result"
    }
   ],
   "source": [
    "df.head()"
   ]
  },
  {
   "cell_type": "code",
   "execution_count": 19,
   "id": "0b3d94bf",
   "metadata": {},
   "outputs": [
    {
     "data": {
      "text/plain": [
       "<bound method NDFrame.head of      MONTH STORECODE  QTY  VALUE         MBRD\n",
       "0       M1        P1   25     83         DOVE\n",
       "1       M1        P1    6     22         DOVE\n",
       "2       M1        P1    4     15         DOVE\n",
       "3       M1        P1   15     60      GARNIER\n",
       "4       M1        P2    0      0  CLINIC PLUS\n",
       "...    ...       ...  ...    ...          ...\n",
       "5996    M2        P5    1     39     LIFEBUOY\n",
       "5997    M2        P5    4     39     LIFEBUOY\n",
       "5998    M2        P5    5    145        LIRIL\n",
       "5999    M2        P5   27    271       DETTOL\n",
       "6000    M2        P5   19    194      CINTHOL\n",
       "\n",
       "[6001 rows x 5 columns]>"
      ]
     },
     "metadata": {},
     "output_type": "display_data"
    }
   ],
   "source": [
    "display(df.head)"
   ]
  },
  {
   "cell_type": "markdown",
   "id": "341190fc",
   "metadata": {},
   "source": [
    "## Grouping\n",
    "### Which feaure to group ?\n",
    "### Split, Apply, Combine\n",
    "### 1. We need the total quantity sold"
   ]
  },
  {
   "cell_type": "code",
   "execution_count": 23,
   "id": "9aaba957",
   "metadata": {},
   "outputs": [],
   "source": [
    "df1 = df.loc[:6000, ['MONTH','QTY']]"
   ]
  },
  {
   "cell_type": "code",
   "execution_count": 24,
   "id": "118d2fa0",
   "metadata": {},
   "outputs": [],
   "source": [
    "df1 = df1.groupby(['MONTH']).sum()"
   ]
  },
  {
   "cell_type": "code",
   "execution_count": 25,
   "id": "26d4cc0f",
   "metadata": {},
   "outputs": [
    {
     "data": {
      "text/html": [
       "<div>\n",
       "<style scoped>\n",
       "    .dataframe tbody tr th:only-of-type {\n",
       "        vertical-align: middle;\n",
       "    }\n",
       "\n",
       "    .dataframe tbody tr th {\n",
       "        vertical-align: top;\n",
       "    }\n",
       "\n",
       "    .dataframe thead th {\n",
       "        text-align: right;\n",
       "    }\n",
       "</style>\n",
       "<table border=\"1\" class=\"dataframe\">\n",
       "  <thead>\n",
       "    <tr style=\"text-align: right;\">\n",
       "      <th></th>\n",
       "      <th>QTY</th>\n",
       "    </tr>\n",
       "    <tr>\n",
       "      <th>MONTH</th>\n",
       "      <th></th>\n",
       "    </tr>\n",
       "  </thead>\n",
       "  <tbody>\n",
       "    <tr>\n",
       "      <th>M1</th>\n",
       "      <td>27571</td>\n",
       "    </tr>\n",
       "    <tr>\n",
       "      <th>M2</th>\n",
       "      <td>29419</td>\n",
       "    </tr>\n",
       "    <tr>\n",
       "      <th>M3</th>\n",
       "      <td>28031</td>\n",
       "    </tr>\n",
       "  </tbody>\n",
       "</table>\n",
       "</div>"
      ],
      "text/plain": [
       "         QTY\n",
       "MONTH       \n",
       "M1     27571\n",
       "M2     29419\n",
       "M3     28031"
      ]
     },
     "execution_count": 25,
     "metadata": {},
     "output_type": "execute_result"
    }
   ],
   "source": [
    "df1.head()"
   ]
  },
  {
   "cell_type": "markdown",
   "id": "fd7870a7",
   "metadata": {},
   "source": [
    "#### So many quantities were sold in it's respective sum"
   ]
  },
  {
   "cell_type": "markdown",
   "id": "75e01024",
   "metadata": {},
   "source": [
    "### 2. We need the total quantity that is sold by one quantity"
   ]
  },
  {
   "cell_type": "code",
   "execution_count": 27,
   "id": "fc8940d0",
   "metadata": {},
   "outputs": [
    {
     "data": {
      "text/html": [
       "<div>\n",
       "<style scoped>\n",
       "    .dataframe tbody tr th:only-of-type {\n",
       "        vertical-align: middle;\n",
       "    }\n",
       "\n",
       "    .dataframe tbody tr th {\n",
       "        vertical-align: top;\n",
       "    }\n",
       "\n",
       "    .dataframe thead th {\n",
       "        text-align: right;\n",
       "    }\n",
       "</style>\n",
       "<table border=\"1\" class=\"dataframe\">\n",
       "  <thead>\n",
       "    <tr style=\"text-align: right;\">\n",
       "      <th></th>\n",
       "      <th>QTY</th>\n",
       "    </tr>\n",
       "    <tr>\n",
       "      <th>MBRD</th>\n",
       "      <th></th>\n",
       "    </tr>\n",
       "  </thead>\n",
       "  <tbody>\n",
       "    <tr>\n",
       "      <th>7 O'CLOCK</th>\n",
       "      <td>2</td>\n",
       "    </tr>\n",
       "    <tr>\n",
       "      <th>A ANANDI</th>\n",
       "      <td>1</td>\n",
       "    </tr>\n",
       "    <tr>\n",
       "      <th>AACHI</th>\n",
       "      <td>66</td>\n",
       "    </tr>\n",
       "    <tr>\n",
       "      <th>AAREY</th>\n",
       "      <td>10</td>\n",
       "    </tr>\n",
       "    <tr>\n",
       "      <th>ACTIVE POWER</th>\n",
       "      <td>658</td>\n",
       "    </tr>\n",
       "  </tbody>\n",
       "</table>\n",
       "</div>"
      ],
      "text/plain": [
       "              QTY\n",
       "MBRD             \n",
       "7 O'CLOCK       2\n",
       "A ANANDI        1\n",
       "AACHI          66\n",
       "AAREY          10\n",
       "ACTIVE POWER  658"
      ]
     },
     "execution_count": 27,
     "metadata": {},
     "output_type": "execute_result"
    }
   ],
   "source": [
    "df2 = df.loc[:6000,['MBRD','QTY']]\n",
    "df2 = df2.groupby(['MBRD']).sum()\n",
    "df2.head()"
   ]
  },
  {
   "cell_type": "markdown",
   "id": "49e8e825",
   "metadata": {},
   "source": [
    " ### 3.We need the quantity sold in each month"
   ]
  },
  {
   "cell_type": "code",
   "execution_count": 29,
   "id": "45b81cb3",
   "metadata": {},
   "outputs": [
    {
     "data": {
      "text/html": [
       "<div>\n",
       "<style scoped>\n",
       "    .dataframe tbody tr th:only-of-type {\n",
       "        vertical-align: middle;\n",
       "    }\n",
       "\n",
       "    .dataframe tbody tr th {\n",
       "        vertical-align: top;\n",
       "    }\n",
       "\n",
       "    .dataframe thead th {\n",
       "        text-align: right;\n",
       "    }\n",
       "</style>\n",
       "<table border=\"1\" class=\"dataframe\">\n",
       "  <thead>\n",
       "    <tr style=\"text-align: right;\">\n",
       "      <th></th>\n",
       "      <th></th>\n",
       "      <th>VALUE</th>\n",
       "      <th>QTY</th>\n",
       "    </tr>\n",
       "    <tr>\n",
       "      <th>MBRD</th>\n",
       "      <th>MONTH</th>\n",
       "      <th></th>\n",
       "      <th></th>\n",
       "    </tr>\n",
       "  </thead>\n",
       "  <tbody>\n",
       "    <tr>\n",
       "      <th rowspan=\"3\" valign=\"top\">7 O'CLOCK</th>\n",
       "      <th>M1</th>\n",
       "      <td>175</td>\n",
       "      <td>1</td>\n",
       "    </tr>\n",
       "    <tr>\n",
       "      <th>M2</th>\n",
       "      <td>175</td>\n",
       "      <td>1</td>\n",
       "    </tr>\n",
       "    <tr>\n",
       "      <th>M3</th>\n",
       "      <td>0</td>\n",
       "      <td>0</td>\n",
       "    </tr>\n",
       "    <tr>\n",
       "      <th>A ANANDI</th>\n",
       "      <th>M2</th>\n",
       "      <td>36</td>\n",
       "      <td>1</td>\n",
       "    </tr>\n",
       "    <tr>\n",
       "      <th>AACHI</th>\n",
       "      <th>M1</th>\n",
       "      <td>643</td>\n",
       "      <td>28</td>\n",
       "    </tr>\n",
       "  </tbody>\n",
       "</table>\n",
       "</div>"
      ],
      "text/plain": [
       "                 VALUE  QTY\n",
       "MBRD      MONTH            \n",
       "7 O'CLOCK M1       175    1\n",
       "          M2       175    1\n",
       "          M3         0    0\n",
       "A ANANDI  M2        36    1\n",
       "AACHI     M1       643   28"
      ]
     },
     "execution_count": 29,
     "metadata": {},
     "output_type": "execute_result"
    }
   ],
   "source": [
    "df2 = df.loc[:6000,['MONTH','VALUE','MBRD','QTY']]\n",
    "df2 = df2.groupby(['MBRD', 'MONTH']).sum()\n",
    "df2.head()"
   ]
  },
  {
   "cell_type": "markdown",
   "id": "a8a7f1f0",
   "metadata": {},
   "source": [
    "### AGGREGATION"
   ]
  },
  {
   "cell_type": "code",
   "execution_count": 30,
   "id": "d588e5cb",
   "metadata": {},
   "outputs": [
    {
     "data": {
      "text/html": [
       "<div>\n",
       "<style scoped>\n",
       "    .dataframe tbody tr th:only-of-type {\n",
       "        vertical-align: middle;\n",
       "    }\n",
       "\n",
       "    .dataframe tbody tr th {\n",
       "        vertical-align: top;\n",
       "    }\n",
       "\n",
       "    .dataframe thead tr th {\n",
       "        text-align: left;\n",
       "    }\n",
       "\n",
       "    .dataframe thead tr:last-of-type th {\n",
       "        text-align: right;\n",
       "    }\n",
       "</style>\n",
       "<table border=\"1\" class=\"dataframe\">\n",
       "  <thead>\n",
       "    <tr>\n",
       "      <th></th>\n",
       "      <th></th>\n",
       "      <th colspan=\"3\" halign=\"left\">VALUE</th>\n",
       "      <th colspan=\"3\" halign=\"left\">QTY</th>\n",
       "    </tr>\n",
       "    <tr>\n",
       "      <th></th>\n",
       "      <th></th>\n",
       "      <th>mean</th>\n",
       "      <th>sum</th>\n",
       "      <th>std</th>\n",
       "      <th>mean</th>\n",
       "      <th>sum</th>\n",
       "      <th>std</th>\n",
       "    </tr>\n",
       "    <tr>\n",
       "      <th>MBRD</th>\n",
       "      <th>MONTH</th>\n",
       "      <th></th>\n",
       "      <th></th>\n",
       "      <th></th>\n",
       "      <th></th>\n",
       "      <th></th>\n",
       "      <th></th>\n",
       "    </tr>\n",
       "  </thead>\n",
       "  <tbody>\n",
       "    <tr>\n",
       "      <th rowspan=\"3\" valign=\"top\">7 O'CLOCK</th>\n",
       "      <th>M1</th>\n",
       "      <td>175.000000</td>\n",
       "      <td>175</td>\n",
       "      <td>NaN</td>\n",
       "      <td>1.000000</td>\n",
       "      <td>1</td>\n",
       "      <td>NaN</td>\n",
       "    </tr>\n",
       "    <tr>\n",
       "      <th>M2</th>\n",
       "      <td>175.000000</td>\n",
       "      <td>175</td>\n",
       "      <td>NaN</td>\n",
       "      <td>1.000000</td>\n",
       "      <td>1</td>\n",
       "      <td>NaN</td>\n",
       "    </tr>\n",
       "    <tr>\n",
       "      <th>M3</th>\n",
       "      <td>0.000000</td>\n",
       "      <td>0</td>\n",
       "      <td>NaN</td>\n",
       "      <td>0.000000</td>\n",
       "      <td>0</td>\n",
       "      <td>NaN</td>\n",
       "    </tr>\n",
       "    <tr>\n",
       "      <th>A ANANDI</th>\n",
       "      <th>M2</th>\n",
       "      <td>36.000000</td>\n",
       "      <td>36</td>\n",
       "      <td>NaN</td>\n",
       "      <td>1.000000</td>\n",
       "      <td>1</td>\n",
       "      <td>NaN</td>\n",
       "    </tr>\n",
       "    <tr>\n",
       "      <th>AACHI</th>\n",
       "      <th>M1</th>\n",
       "      <td>214.333333</td>\n",
       "      <td>643</td>\n",
       "      <td>184.500226</td>\n",
       "      <td>9.333333</td>\n",
       "      <td>28</td>\n",
       "      <td>10.40833</td>\n",
       "    </tr>\n",
       "  </tbody>\n",
       "</table>\n",
       "</div>"
      ],
      "text/plain": [
       "                      VALUE                        QTY              \n",
       "                       mean  sum         std      mean sum       std\n",
       "MBRD      MONTH                                                     \n",
       "7 O'CLOCK M1     175.000000  175         NaN  1.000000   1       NaN\n",
       "          M2     175.000000  175         NaN  1.000000   1       NaN\n",
       "          M3       0.000000    0         NaN  0.000000   0       NaN\n",
       "A ANANDI  M2      36.000000   36         NaN  1.000000   1       NaN\n",
       "AACHI     M1     214.333333  643  184.500226  9.333333  28  10.40833"
      ]
     },
     "execution_count": 30,
     "metadata": {},
     "output_type": "execute_result"
    }
   ],
   "source": [
    "df2 = df.loc[:6000,['MONTH','VALUE','MBRD','QTY']]\n",
    "df2 = df2.groupby(['MBRD', 'MONTH']).agg([np.mean, np.sum, np.std])\n",
    "df2.head()"
   ]
  },
  {
   "cell_type": "markdown",
   "id": "f9717aac",
   "metadata": {},
   "source": [
    "## II. ROLLING WINDOW METHOD"
   ]
  },
  {
   "cell_type": "code",
   "execution_count": 31,
   "id": "c4eaa734",
   "metadata": {},
   "outputs": [],
   "source": [
    "import matplotlib.pyplot as plt"
   ]
  },
  {
   "cell_type": "code",
   "execution_count": 32,
   "id": "0bde056f",
   "metadata": {},
   "outputs": [],
   "source": [
    "df = pd.read_csv(\"/Users/sharanyasenthil/Downloads/stock prices.csv\")"
   ]
  },
  {
   "cell_type": "code",
   "execution_count": 33,
   "id": "88936ccb",
   "metadata": {},
   "outputs": [
    {
     "data": {
      "text/html": [
       "<div>\n",
       "<style scoped>\n",
       "    .dataframe tbody tr th:only-of-type {\n",
       "        vertical-align: middle;\n",
       "    }\n",
       "\n",
       "    .dataframe tbody tr th {\n",
       "        vertical-align: top;\n",
       "    }\n",
       "\n",
       "    .dataframe thead th {\n",
       "        text-align: right;\n",
       "    }\n",
       "</style>\n",
       "<table border=\"1\" class=\"dataframe\">\n",
       "  <thead>\n",
       "    <tr style=\"text-align: right;\">\n",
       "      <th></th>\n",
       "      <th>symbol</th>\n",
       "      <th>date</th>\n",
       "      <th>open</th>\n",
       "      <th>high</th>\n",
       "      <th>low</th>\n",
       "      <th>close</th>\n",
       "      <th>volume</th>\n",
       "    </tr>\n",
       "  </thead>\n",
       "  <tbody>\n",
       "    <tr>\n",
       "      <th>0</th>\n",
       "      <td>AAL</td>\n",
       "      <td>2014-01-02</td>\n",
       "      <td>25.0700</td>\n",
       "      <td>25.8200</td>\n",
       "      <td>25.0600</td>\n",
       "      <td>25.3600</td>\n",
       "      <td>8998943</td>\n",
       "    </tr>\n",
       "    <tr>\n",
       "      <th>1</th>\n",
       "      <td>AAPL</td>\n",
       "      <td>2014-01-02</td>\n",
       "      <td>79.3828</td>\n",
       "      <td>79.5756</td>\n",
       "      <td>78.8601</td>\n",
       "      <td>79.0185</td>\n",
       "      <td>58791957</td>\n",
       "    </tr>\n",
       "    <tr>\n",
       "      <th>2</th>\n",
       "      <td>AAP</td>\n",
       "      <td>2014-01-02</td>\n",
       "      <td>110.3600</td>\n",
       "      <td>111.8800</td>\n",
       "      <td>109.2900</td>\n",
       "      <td>109.7400</td>\n",
       "      <td>542711</td>\n",
       "    </tr>\n",
       "    <tr>\n",
       "      <th>3</th>\n",
       "      <td>ABBV</td>\n",
       "      <td>2014-01-02</td>\n",
       "      <td>52.1200</td>\n",
       "      <td>52.3300</td>\n",
       "      <td>51.5200</td>\n",
       "      <td>51.9800</td>\n",
       "      <td>4569061</td>\n",
       "    </tr>\n",
       "    <tr>\n",
       "      <th>4</th>\n",
       "      <td>ABC</td>\n",
       "      <td>2014-01-02</td>\n",
       "      <td>70.1100</td>\n",
       "      <td>70.2300</td>\n",
       "      <td>69.4800</td>\n",
       "      <td>69.8900</td>\n",
       "      <td>1148391</td>\n",
       "    </tr>\n",
       "  </tbody>\n",
       "</table>\n",
       "</div>"
      ],
      "text/plain": [
       "  symbol        date      open      high       low     close    volume\n",
       "0    AAL  2014-01-02   25.0700   25.8200   25.0600   25.3600   8998943\n",
       "1   AAPL  2014-01-02   79.3828   79.5756   78.8601   79.0185  58791957\n",
       "2    AAP  2014-01-02  110.3600  111.8800  109.2900  109.7400    542711\n",
       "3   ABBV  2014-01-02   52.1200   52.3300   51.5200   51.9800   4569061\n",
       "4    ABC  2014-01-02   70.1100   70.2300   69.4800   69.8900   1148391"
      ]
     },
     "execution_count": 33,
     "metadata": {},
     "output_type": "execute_result"
    }
   ],
   "source": [
    "df.head()"
   ]
  },
  {
   "cell_type": "markdown",
   "id": "277a30aa",
   "metadata": {},
   "source": [
    "### Picking only Apple Stocks"
   ]
  },
  {
   "cell_type": "code",
   "execution_count": 37,
   "id": "86acc83a",
   "metadata": {
    "scrolled": true
   },
   "outputs": [],
   "source": [
    "df = df.loc[df['symbol'] == 'AAPL']"
   ]
  },
  {
   "cell_type": "code",
   "execution_count": 38,
   "id": "1d7a8304",
   "metadata": {},
   "outputs": [
    {
     "data": {
      "text/plain": [
       "(1007, 7)"
      ]
     },
     "execution_count": 38,
     "metadata": {},
     "output_type": "execute_result"
    }
   ],
   "source": [
    "df.shape"
   ]
  },
  {
   "cell_type": "code",
   "execution_count": 39,
   "id": "5c964597",
   "metadata": {},
   "outputs": [
    {
     "data": {
      "text/html": [
       "<div>\n",
       "<style scoped>\n",
       "    .dataframe tbody tr th:only-of-type {\n",
       "        vertical-align: middle;\n",
       "    }\n",
       "\n",
       "    .dataframe tbody tr th {\n",
       "        vertical-align: top;\n",
       "    }\n",
       "\n",
       "    .dataframe thead th {\n",
       "        text-align: right;\n",
       "    }\n",
       "</style>\n",
       "<table border=\"1\" class=\"dataframe\">\n",
       "  <thead>\n",
       "    <tr style=\"text-align: right;\">\n",
       "      <th></th>\n",
       "      <th>symbol</th>\n",
       "      <th>date</th>\n",
       "      <th>open</th>\n",
       "      <th>high</th>\n",
       "      <th>low</th>\n",
       "      <th>close</th>\n",
       "      <th>volume</th>\n",
       "    </tr>\n",
       "  </thead>\n",
       "  <tbody>\n",
       "    <tr>\n",
       "      <th>1</th>\n",
       "      <td>AAPL</td>\n",
       "      <td>2014-01-02</td>\n",
       "      <td>79.3828</td>\n",
       "      <td>79.5756</td>\n",
       "      <td>78.8601</td>\n",
       "      <td>79.0185</td>\n",
       "      <td>58791957</td>\n",
       "    </tr>\n",
       "    <tr>\n",
       "      <th>484</th>\n",
       "      <td>AAPL</td>\n",
       "      <td>2014-01-03</td>\n",
       "      <td>78.9799</td>\n",
       "      <td>79.0999</td>\n",
       "      <td>77.2042</td>\n",
       "      <td>77.2828</td>\n",
       "      <td>98303870</td>\n",
       "    </tr>\n",
       "    <tr>\n",
       "      <th>967</th>\n",
       "      <td>AAPL</td>\n",
       "      <td>2014-01-06</td>\n",
       "      <td>76.7785</td>\n",
       "      <td>78.1142</td>\n",
       "      <td>76.2285</td>\n",
       "      <td>77.7042</td>\n",
       "      <td>103359151</td>\n",
       "    </tr>\n",
       "    <tr>\n",
       "      <th>1450</th>\n",
       "      <td>AAPL</td>\n",
       "      <td>2014-01-07</td>\n",
       "      <td>77.7599</td>\n",
       "      <td>77.9942</td>\n",
       "      <td>76.8464</td>\n",
       "      <td>77.1481</td>\n",
       "      <td>79432766</td>\n",
       "    </tr>\n",
       "    <tr>\n",
       "      <th>1933</th>\n",
       "      <td>AAPL</td>\n",
       "      <td>2014-01-08</td>\n",
       "      <td>76.9728</td>\n",
       "      <td>77.9371</td>\n",
       "      <td>76.9556</td>\n",
       "      <td>77.6371</td>\n",
       "      <td>64686685</td>\n",
       "    </tr>\n",
       "  </tbody>\n",
       "</table>\n",
       "</div>"
      ],
      "text/plain": [
       "     symbol        date     open     high      low    close     volume\n",
       "1      AAPL  2014-01-02  79.3828  79.5756  78.8601  79.0185   58791957\n",
       "484    AAPL  2014-01-03  78.9799  79.0999  77.2042  77.2828   98303870\n",
       "967    AAPL  2014-01-06  76.7785  78.1142  76.2285  77.7042  103359151\n",
       "1450   AAPL  2014-01-07  77.7599  77.9942  76.8464  77.1481   79432766\n",
       "1933   AAPL  2014-01-08  76.9728  77.9371  76.9556  77.6371   64686685"
      ]
     },
     "execution_count": 39,
     "metadata": {},
     "output_type": "execute_result"
    }
   ],
   "source": [
    "df.head()"
   ]
  },
  {
   "cell_type": "markdown",
   "id": "f56aabdf",
   "metadata": {},
   "source": [
    "### Picking only 2014 stocks"
   ]
  },
  {
   "cell_type": "code",
   "execution_count": 41,
   "id": "5e4ffaac",
   "metadata": {},
   "outputs": [],
   "source": [
    "df = df.loc[df['date'] <= '2015-01-01']"
   ]
  },
  {
   "cell_type": "code",
   "execution_count": 42,
   "id": "a719d208",
   "metadata": {},
   "outputs": [
    {
     "data": {
      "text/html": [
       "<div>\n",
       "<style scoped>\n",
       "    .dataframe tbody tr th:only-of-type {\n",
       "        vertical-align: middle;\n",
       "    }\n",
       "\n",
       "    .dataframe tbody tr th {\n",
       "        vertical-align: top;\n",
       "    }\n",
       "\n",
       "    .dataframe thead th {\n",
       "        text-align: right;\n",
       "    }\n",
       "</style>\n",
       "<table border=\"1\" class=\"dataframe\">\n",
       "  <thead>\n",
       "    <tr style=\"text-align: right;\">\n",
       "      <th></th>\n",
       "      <th>symbol</th>\n",
       "      <th>date</th>\n",
       "      <th>open</th>\n",
       "      <th>high</th>\n",
       "      <th>low</th>\n",
       "      <th>close</th>\n",
       "      <th>volume</th>\n",
       "    </tr>\n",
       "  </thead>\n",
       "  <tbody>\n",
       "    <tr>\n",
       "      <th>1</th>\n",
       "      <td>AAPL</td>\n",
       "      <td>2014-01-02</td>\n",
       "      <td>79.3828</td>\n",
       "      <td>79.5756</td>\n",
       "      <td>78.8601</td>\n",
       "      <td>79.0185</td>\n",
       "      <td>58791957</td>\n",
       "    </tr>\n",
       "    <tr>\n",
       "      <th>484</th>\n",
       "      <td>AAPL</td>\n",
       "      <td>2014-01-03</td>\n",
       "      <td>78.9799</td>\n",
       "      <td>79.0999</td>\n",
       "      <td>77.2042</td>\n",
       "      <td>77.2828</td>\n",
       "      <td>98303870</td>\n",
       "    </tr>\n",
       "    <tr>\n",
       "      <th>967</th>\n",
       "      <td>AAPL</td>\n",
       "      <td>2014-01-06</td>\n",
       "      <td>76.7785</td>\n",
       "      <td>78.1142</td>\n",
       "      <td>76.2285</td>\n",
       "      <td>77.7042</td>\n",
       "      <td>103359151</td>\n",
       "    </tr>\n",
       "    <tr>\n",
       "      <th>1450</th>\n",
       "      <td>AAPL</td>\n",
       "      <td>2014-01-07</td>\n",
       "      <td>77.7599</td>\n",
       "      <td>77.9942</td>\n",
       "      <td>76.8464</td>\n",
       "      <td>77.1481</td>\n",
       "      <td>79432766</td>\n",
       "    </tr>\n",
       "    <tr>\n",
       "      <th>1933</th>\n",
       "      <td>AAPL</td>\n",
       "      <td>2014-01-08</td>\n",
       "      <td>76.9728</td>\n",
       "      <td>77.9371</td>\n",
       "      <td>76.9556</td>\n",
       "      <td>77.6371</td>\n",
       "      <td>64686685</td>\n",
       "    </tr>\n",
       "    <tr>\n",
       "      <th>...</th>\n",
       "      <td>...</td>\n",
       "      <td>...</td>\n",
       "      <td>...</td>\n",
       "      <td>...</td>\n",
       "      <td>...</td>\n",
       "      <td>...</td>\n",
       "      <td>...</td>\n",
       "    </tr>\n",
       "    <tr>\n",
       "      <th>119958</th>\n",
       "      <td>AAPL</td>\n",
       "      <td>2014-12-24</td>\n",
       "      <td>112.5800</td>\n",
       "      <td>112.7100</td>\n",
       "      <td>112.0100</td>\n",
       "      <td>112.0100</td>\n",
       "      <td>14479611</td>\n",
       "    </tr>\n",
       "    <tr>\n",
       "      <th>120446</th>\n",
       "      <td>AAPL</td>\n",
       "      <td>2014-12-26</td>\n",
       "      <td>112.1000</td>\n",
       "      <td>114.5200</td>\n",
       "      <td>112.0100</td>\n",
       "      <td>113.9900</td>\n",
       "      <td>33720951</td>\n",
       "    </tr>\n",
       "    <tr>\n",
       "      <th>120934</th>\n",
       "      <td>AAPL</td>\n",
       "      <td>2014-12-29</td>\n",
       "      <td>113.7900</td>\n",
       "      <td>114.7700</td>\n",
       "      <td>113.7000</td>\n",
       "      <td>113.9100</td>\n",
       "      <td>27598920</td>\n",
       "    </tr>\n",
       "    <tr>\n",
       "      <th>121422</th>\n",
       "      <td>AAPL</td>\n",
       "      <td>2014-12-30</td>\n",
       "      <td>113.6400</td>\n",
       "      <td>113.9200</td>\n",
       "      <td>112.1100</td>\n",
       "      <td>112.5200</td>\n",
       "      <td>29881477</td>\n",
       "    </tr>\n",
       "    <tr>\n",
       "      <th>121910</th>\n",
       "      <td>AAPL</td>\n",
       "      <td>2014-12-31</td>\n",
       "      <td>112.8200</td>\n",
       "      <td>113.1300</td>\n",
       "      <td>110.2100</td>\n",
       "      <td>110.3800</td>\n",
       "      <td>41403351</td>\n",
       "    </tr>\n",
       "  </tbody>\n",
       "</table>\n",
       "<p>252 rows × 7 columns</p>\n",
       "</div>"
      ],
      "text/plain": [
       "       symbol        date      open      high       low     close     volume\n",
       "1        AAPL  2014-01-02   79.3828   79.5756   78.8601   79.0185   58791957\n",
       "484      AAPL  2014-01-03   78.9799   79.0999   77.2042   77.2828   98303870\n",
       "967      AAPL  2014-01-06   76.7785   78.1142   76.2285   77.7042  103359151\n",
       "1450     AAPL  2014-01-07   77.7599   77.9942   76.8464   77.1481   79432766\n",
       "1933     AAPL  2014-01-08   76.9728   77.9371   76.9556   77.6371   64686685\n",
       "...       ...         ...       ...       ...       ...       ...        ...\n",
       "119958   AAPL  2014-12-24  112.5800  112.7100  112.0100  112.0100   14479611\n",
       "120446   AAPL  2014-12-26  112.1000  114.5200  112.0100  113.9900   33720951\n",
       "120934   AAPL  2014-12-29  113.7900  114.7700  113.7000  113.9100   27598920\n",
       "121422   AAPL  2014-12-30  113.6400  113.9200  112.1100  112.5200   29881477\n",
       "121910   AAPL  2014-12-31  112.8200  113.1300  110.2100  110.3800   41403351\n",
       "\n",
       "[252 rows x 7 columns]"
      ]
     },
     "execution_count": 42,
     "metadata": {},
     "output_type": "execute_result"
    }
   ],
   "source": [
    "df"
   ]
  },
  {
   "cell_type": "code",
   "execution_count": 43,
   "id": "fa702324",
   "metadata": {},
   "outputs": [],
   "source": [
    "df2 = pd.DataFrame(df.close)"
   ]
  },
  {
   "cell_type": "code",
   "execution_count": 44,
   "id": "862040dd",
   "metadata": {},
   "outputs": [
    {
     "data": {
      "text/html": [
       "<div>\n",
       "<style scoped>\n",
       "    .dataframe tbody tr th:only-of-type {\n",
       "        vertical-align: middle;\n",
       "    }\n",
       "\n",
       "    .dataframe tbody tr th {\n",
       "        vertical-align: top;\n",
       "    }\n",
       "\n",
       "    .dataframe thead th {\n",
       "        text-align: right;\n",
       "    }\n",
       "</style>\n",
       "<table border=\"1\" class=\"dataframe\">\n",
       "  <thead>\n",
       "    <tr style=\"text-align: right;\">\n",
       "      <th></th>\n",
       "      <th>close</th>\n",
       "    </tr>\n",
       "  </thead>\n",
       "  <tbody>\n",
       "    <tr>\n",
       "      <th>1</th>\n",
       "      <td>79.0185</td>\n",
       "    </tr>\n",
       "    <tr>\n",
       "      <th>484</th>\n",
       "      <td>77.2828</td>\n",
       "    </tr>\n",
       "    <tr>\n",
       "      <th>967</th>\n",
       "      <td>77.7042</td>\n",
       "    </tr>\n",
       "    <tr>\n",
       "      <th>1450</th>\n",
       "      <td>77.1481</td>\n",
       "    </tr>\n",
       "    <tr>\n",
       "      <th>1933</th>\n",
       "      <td>77.6371</td>\n",
       "    </tr>\n",
       "    <tr>\n",
       "      <th>...</th>\n",
       "      <td>...</td>\n",
       "    </tr>\n",
       "    <tr>\n",
       "      <th>119958</th>\n",
       "      <td>112.0100</td>\n",
       "    </tr>\n",
       "    <tr>\n",
       "      <th>120446</th>\n",
       "      <td>113.9900</td>\n",
       "    </tr>\n",
       "    <tr>\n",
       "      <th>120934</th>\n",
       "      <td>113.9100</td>\n",
       "    </tr>\n",
       "    <tr>\n",
       "      <th>121422</th>\n",
       "      <td>112.5200</td>\n",
       "    </tr>\n",
       "    <tr>\n",
       "      <th>121910</th>\n",
       "      <td>110.3800</td>\n",
       "    </tr>\n",
       "  </tbody>\n",
       "</table>\n",
       "<p>252 rows × 1 columns</p>\n",
       "</div>"
      ],
      "text/plain": [
       "           close\n",
       "1        79.0185\n",
       "484      77.2828\n",
       "967      77.7042\n",
       "1450     77.1481\n",
       "1933     77.6371\n",
       "...          ...\n",
       "119958  112.0100\n",
       "120446  113.9900\n",
       "120934  113.9100\n",
       "121422  112.5200\n",
       "121910  110.3800\n",
       "\n",
       "[252 rows x 1 columns]"
      ]
     },
     "execution_count": 44,
     "metadata": {},
     "output_type": "execute_result"
    }
   ],
   "source": [
    "df2"
   ]
  },
  {
   "cell_type": "markdown",
   "id": "d920f1fd",
   "metadata": {},
   "source": [
    "### Applying data aggregation to the close column"
   ]
  },
  {
   "cell_type": "code",
   "execution_count": 48,
   "id": "a096564a",
   "metadata": {},
   "outputs": [],
   "source": [
    "df2['AVG_7'] = df2.close.rolling(window=7).mean()"
   ]
  },
  {
   "cell_type": "code",
   "execution_count": 49,
   "id": "1e4c9da3",
   "metadata": {},
   "outputs": [
    {
     "data": {
      "text/html": [
       "<div>\n",
       "<style scoped>\n",
       "    .dataframe tbody tr th:only-of-type {\n",
       "        vertical-align: middle;\n",
       "    }\n",
       "\n",
       "    .dataframe tbody tr th {\n",
       "        vertical-align: top;\n",
       "    }\n",
       "\n",
       "    .dataframe thead th {\n",
       "        text-align: right;\n",
       "    }\n",
       "</style>\n",
       "<table border=\"1\" class=\"dataframe\">\n",
       "  <thead>\n",
       "    <tr style=\"text-align: right;\">\n",
       "      <th></th>\n",
       "      <th>close</th>\n",
       "      <th>AVG_7</th>\n",
       "    </tr>\n",
       "  </thead>\n",
       "  <tbody>\n",
       "    <tr>\n",
       "      <th>1</th>\n",
       "      <td>79.0185</td>\n",
       "      <td>NaN</td>\n",
       "    </tr>\n",
       "    <tr>\n",
       "      <th>484</th>\n",
       "      <td>77.2828</td>\n",
       "      <td>NaN</td>\n",
       "    </tr>\n",
       "    <tr>\n",
       "      <th>967</th>\n",
       "      <td>77.7042</td>\n",
       "      <td>NaN</td>\n",
       "    </tr>\n",
       "    <tr>\n",
       "      <th>1450</th>\n",
       "      <td>77.1481</td>\n",
       "      <td>NaN</td>\n",
       "    </tr>\n",
       "    <tr>\n",
       "      <th>1933</th>\n",
       "      <td>77.6371</td>\n",
       "      <td>NaN</td>\n",
       "    </tr>\n",
       "    <tr>\n",
       "      <th>...</th>\n",
       "      <td>...</td>\n",
       "      <td>...</td>\n",
       "    </tr>\n",
       "    <tr>\n",
       "      <th>119958</th>\n",
       "      <td>112.0100</td>\n",
       "      <td>111.153571</td>\n",
       "    </tr>\n",
       "    <tr>\n",
       "      <th>120446</th>\n",
       "      <td>113.9900</td>\n",
       "      <td>112.188571</td>\n",
       "    </tr>\n",
       "    <tr>\n",
       "      <th>120934</th>\n",
       "      <td>113.9100</td>\n",
       "      <td>112.831429</td>\n",
       "    </tr>\n",
       "    <tr>\n",
       "      <th>121422</th>\n",
       "      <td>112.5200</td>\n",
       "      <td>112.812857</td>\n",
       "    </tr>\n",
       "    <tr>\n",
       "      <th>121910</th>\n",
       "      <td>110.3800</td>\n",
       "      <td>112.612857</td>\n",
       "    </tr>\n",
       "  </tbody>\n",
       "</table>\n",
       "<p>252 rows × 2 columns</p>\n",
       "</div>"
      ],
      "text/plain": [
       "           close       AVG_7\n",
       "1        79.0185         NaN\n",
       "484      77.2828         NaN\n",
       "967      77.7042         NaN\n",
       "1450     77.1481         NaN\n",
       "1933     77.6371         NaN\n",
       "...          ...         ...\n",
       "119958  112.0100  111.153571\n",
       "120446  113.9900  112.188571\n",
       "120934  113.9100  112.831429\n",
       "121422  112.5200  112.812857\n",
       "121910  110.3800  112.612857\n",
       "\n",
       "[252 rows x 2 columns]"
      ]
     },
     "execution_count": 49,
     "metadata": {},
     "output_type": "execute_result"
    }
   ],
   "source": [
    "df2"
   ]
  },
  {
   "cell_type": "code",
   "execution_count": 50,
   "id": "db2accb5",
   "metadata": {},
   "outputs": [],
   "source": [
    "df2['AVG_7'] = df2.close.rolling(window=7, min_periods=1).mean()\n",
    "#### if the min_period = 1, then only rolling will take place"
   ]
  },
  {
   "cell_type": "code",
   "execution_count": 52,
   "id": "cdd381c4",
   "metadata": {},
   "outputs": [
    {
     "data": {
      "text/html": [
       "<div>\n",
       "<style scoped>\n",
       "    .dataframe tbody tr th:only-of-type {\n",
       "        vertical-align: middle;\n",
       "    }\n",
       "\n",
       "    .dataframe tbody tr th {\n",
       "        vertical-align: top;\n",
       "    }\n",
       "\n",
       "    .dataframe thead th {\n",
       "        text-align: right;\n",
       "    }\n",
       "</style>\n",
       "<table border=\"1\" class=\"dataframe\">\n",
       "  <thead>\n",
       "    <tr style=\"text-align: right;\">\n",
       "      <th></th>\n",
       "      <th>close</th>\n",
       "      <th>AVG_7</th>\n",
       "    </tr>\n",
       "  </thead>\n",
       "  <tbody>\n",
       "    <tr>\n",
       "      <th>1</th>\n",
       "      <td>79.0185</td>\n",
       "      <td>79.018500</td>\n",
       "    </tr>\n",
       "    <tr>\n",
       "      <th>484</th>\n",
       "      <td>77.2828</td>\n",
       "      <td>78.150650</td>\n",
       "    </tr>\n",
       "    <tr>\n",
       "      <th>967</th>\n",
       "      <td>77.7042</td>\n",
       "      <td>78.001833</td>\n",
       "    </tr>\n",
       "    <tr>\n",
       "      <th>1450</th>\n",
       "      <td>77.1481</td>\n",
       "      <td>77.788400</td>\n",
       "    </tr>\n",
       "    <tr>\n",
       "      <th>1933</th>\n",
       "      <td>77.6371</td>\n",
       "      <td>77.758140</td>\n",
       "    </tr>\n",
       "  </tbody>\n",
       "</table>\n",
       "</div>"
      ],
      "text/plain": [
       "        close      AVG_7\n",
       "1     79.0185  79.018500\n",
       "484   77.2828  78.150650\n",
       "967   77.7042  78.001833\n",
       "1450  77.1481  77.788400\n",
       "1933  77.6371  77.758140"
      ]
     },
     "execution_count": 52,
     "metadata": {},
     "output_type": "execute_result"
    }
   ],
   "source": [
    "df2.head()"
   ]
  },
  {
   "cell_type": "code",
   "execution_count": 57,
   "id": "80ce4fc0",
   "metadata": {},
   "outputs": [
    {
     "data": {
      "text/plain": [
       "<matplotlib.legend.Legend at 0x7fadd01ede20>"
      ]
     },
     "execution_count": 57,
     "metadata": {},
     "output_type": "execute_result"
    },
    {
     "data": {
      "image/png": "[encoded data removed]",
      "text/plain": [
       "<Figure size 1000x500 with 1 Axes>"
      ]
     },
     "metadata": {},
     "output_type": "display_data"
    }
   ],
   "source": [
    "plt.figure(figsize=(10,5))\n",
    "plt.grid(True)\n",
    "plt.plot(df2['close'], label = 'close')\n",
    "plt.plot(df2['AVG_7'], label = 'AVG_7')\n",
    "plt.legend(loc = 2)"
   ]
  },
  {
   "cell_type": "markdown",
   "id": "74a6816b",
   "metadata": {},
   "source": [
    "### Yellow line has less spikes, hence avg_7 is much better."
   ]
  }
 ],
 "metadata": {
  "kernelspec": {
   "display_name": "Python 3 (ipykernel)",
   "language": "python",
   "name": "python3"
  },
  "language_info": {
   "codemirror_mode": {
    "name": "ipython",
    "version": 3
   },
   "file_extension": ".py",
   "mimetype": "text/x-python",
   "name": "python",
   "nbconvert_exporter": "python",
   "pygments_lexer": "ipython3",
   "version": "3.9.13"
  }
 },
 "nbformat": 4,
 "nbformat_minor": 5
}
